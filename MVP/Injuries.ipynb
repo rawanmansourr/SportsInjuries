{
 "cells": [
  {
   "cell_type": "markdown",
   "id": "5f9ac34e",
   "metadata": {},
   "source": [
    "Info"
   ]
  },
  {
   "cell_type": "markdown",
   "id": "7a5ff45e",
   "metadata": {},
   "source": [
    "# Step 0: Import Lib"
   ]
  },
  {
   "cell_type": "code",
   "execution_count": 3,
   "id": "9e5cf5ac",
   "metadata": {},
   "outputs": [
    {
     "name": "stdout",
     "output_type": "stream",
     "text": [
      "Populating the interactive namespace from numpy and matplotlib\n"
     ]
    }
   ],
   "source": [
    "import pandas as pd\n",
    "import numpy as np\n",
    "\n",
    "import matplotlib.pyplot as plt\n",
    "import seaborn as sns\n",
    "from sklearn.datasets import fetch_california_housing\n",
    "from sklearn.datasets import load_breast_cancer\n",
    "from sklearn.metrics import accuracy_score\n",
    "from sklearn.model_selection import train_test_split\n",
    "from sklearn.metrics import classification_report \n",
    "from sklearn.linear_model import LogisticRegression\n",
    "from sklearn.ensemble import RandomForestRegressor\n",
    "from sklearn.metrics import r2_score\n",
    "from sklearn.metrics import mean_absolute_percentage_error\n",
    "\n",
    "%pylab inline"
   ]
  },
  {
   "cell_type": "markdown",
   "id": "a15b0fb1",
   "metadata": {},
   "source": [
    "# Step 1: Load Data"
   ]
  },
  {
   "cell_type": "code",
   "execution_count": 5,
   "id": "a1faf4a8",
   "metadata": {},
   "outputs": [],
   "source": [
    "df = pd.read_csv('Sesstion.csv')"
   ]
  },
  {
   "cell_type": "code",
   "execution_count": 6,
   "id": "9d506ae8",
   "metadata": {},
   "outputs": [
    {
     "data": {
      "text/html": [
       "<div>\n",
       "<style scoped>\n",
       "    .dataframe tbody tr th:only-of-type {\n",
       "        vertical-align: middle;\n",
       "    }\n",
       "\n",
       "    .dataframe tbody tr th {\n",
       "        vertical-align: top;\n",
       "    }\n",
       "\n",
       "    .dataframe thead th {\n",
       "        text-align: right;\n",
       "    }\n",
       "</style>\n",
       "<table border=\"1\" class=\"dataframe\">\n",
       "  <thead>\n",
       "    <tr style=\"text-align: right;\">\n",
       "      <th></th>\n",
       "      <th>nr. sessions</th>\n",
       "      <th>total km</th>\n",
       "      <th>km Z3-4</th>\n",
       "      <th>km Z5-T1-T2</th>\n",
       "      <th>km sprinting</th>\n",
       "      <th>strength training</th>\n",
       "      <th>hours alternative</th>\n",
       "      <th>perceived exertion</th>\n",
       "      <th>perceived trainingSuccess</th>\n",
       "      <th>perceived recovery</th>\n",
       "      <th>Athlete ID</th>\n",
       "      <th>injury</th>\n",
       "      <th>Date</th>\n",
       "    </tr>\n",
       "  </thead>\n",
       "  <tbody>\n",
       "    <tr>\n",
       "      <th>0</th>\n",
       "      <td>1</td>\n",
       "      <td>5.8</td>\n",
       "      <td>0.0</td>\n",
       "      <td>0.6</td>\n",
       "      <td>1.2</td>\n",
       "      <td>0</td>\n",
       "      <td>0.00</td>\n",
       "      <td>0.11</td>\n",
       "      <td>0.00</td>\n",
       "      <td>0.18</td>\n",
       "      <td>0</td>\n",
       "      <td>0</td>\n",
       "      <td>0</td>\n",
       "    </tr>\n",
       "    <tr>\n",
       "      <th>1</th>\n",
       "      <td>0</td>\n",
       "      <td>0.0</td>\n",
       "      <td>0.0</td>\n",
       "      <td>0.0</td>\n",
       "      <td>0.0</td>\n",
       "      <td>0</td>\n",
       "      <td>0.00</td>\n",
       "      <td>-0.01</td>\n",
       "      <td>-0.01</td>\n",
       "      <td>-0.01</td>\n",
       "      <td>0</td>\n",
       "      <td>0</td>\n",
       "      <td>1</td>\n",
       "    </tr>\n",
       "    <tr>\n",
       "      <th>2</th>\n",
       "      <td>1</td>\n",
       "      <td>0.0</td>\n",
       "      <td>0.0</td>\n",
       "      <td>0.0</td>\n",
       "      <td>0.0</td>\n",
       "      <td>1</td>\n",
       "      <td>0.00</td>\n",
       "      <td>0.10</td>\n",
       "      <td>0.00</td>\n",
       "      <td>0.17</td>\n",
       "      <td>0</td>\n",
       "      <td>0</td>\n",
       "      <td>2</td>\n",
       "    </tr>\n",
       "    <tr>\n",
       "      <th>3</th>\n",
       "      <td>0</td>\n",
       "      <td>0.0</td>\n",
       "      <td>0.0</td>\n",
       "      <td>0.0</td>\n",
       "      <td>0.0</td>\n",
       "      <td>0</td>\n",
       "      <td>0.00</td>\n",
       "      <td>-0.01</td>\n",
       "      <td>-0.01</td>\n",
       "      <td>-0.01</td>\n",
       "      <td>0</td>\n",
       "      <td>0</td>\n",
       "      <td>3</td>\n",
       "    </tr>\n",
       "    <tr>\n",
       "      <th>4</th>\n",
       "      <td>1</td>\n",
       "      <td>0.0</td>\n",
       "      <td>0.0</td>\n",
       "      <td>0.0</td>\n",
       "      <td>0.0</td>\n",
       "      <td>0</td>\n",
       "      <td>1.08</td>\n",
       "      <td>0.08</td>\n",
       "      <td>0.00</td>\n",
       "      <td>0.18</td>\n",
       "      <td>0</td>\n",
       "      <td>0</td>\n",
       "      <td>4</td>\n",
       "    </tr>\n",
       "  </tbody>\n",
       "</table>\n",
       "</div>"
      ],
      "text/plain": [
       "   nr. sessions  total km  km Z3-4  km Z5-T1-T2  km sprinting  \\\n",
       "0             1       5.8      0.0          0.6           1.2   \n",
       "1             0       0.0      0.0          0.0           0.0   \n",
       "2             1       0.0      0.0          0.0           0.0   \n",
       "3             0       0.0      0.0          0.0           0.0   \n",
       "4             1       0.0      0.0          0.0           0.0   \n",
       "\n",
       "   strength training  hours alternative  perceived exertion  \\\n",
       "0                  0               0.00                0.11   \n",
       "1                  0               0.00               -0.01   \n",
       "2                  1               0.00                0.10   \n",
       "3                  0               0.00               -0.01   \n",
       "4                  0               1.08                0.08   \n",
       "\n",
       "   perceived trainingSuccess  perceived recovery  Athlete ID  injury  Date  \n",
       "0                       0.00                0.18           0       0     0  \n",
       "1                      -0.01               -0.01           0       0     1  \n",
       "2                       0.00                0.17           0       0     2  \n",
       "3                      -0.01               -0.01           0       0     3  \n",
       "4                       0.00                0.18           0       0     4  "
      ]
     },
     "execution_count": 6,
     "metadata": {},
     "output_type": "execute_result"
    }
   ],
   "source": [
    "df.head()\n",
    "#df.columns"
   ]
  },
  {
   "cell_type": "markdown",
   "id": "7e6d28e8",
   "metadata": {},
   "source": [
    "# Step 2: Cleaning Data"
   ]
  },
  {
   "cell_type": "markdown",
   "id": "b6b248f0",
   "metadata": {},
   "source": [
    "#####          A. Columns\n",
    "1. Relace column it have the \".\" with \"_\" \n",
    "2. Relace column it have the \" \" with \"_\" \n",
    "3. Relace column it have the \"-\" with \"_\" \n",
    "4. Lower Case"
   ]
  },
  {
   "cell_type": "code",
   "execution_count": 7,
   "id": "2be11430",
   "metadata": {},
   "outputs": [
    {
     "name": "stderr",
     "output_type": "stream",
     "text": [
      "/tmp/ipykernel_6138/3642270442.py:1: FutureWarning: The default value of regex will change from True to False in a future version. In addition, single character regular expressions will *not* be treated as literal strings when regex=True.\n",
      "  df.columns = df.columns.str.replace( '.', '' ).str.replace( '/', '_' ).str.replace( '-', '_' ).str.replace( ' ', '_' ).str.lower().str.strip()\n"
     ]
    }
   ],
   "source": [
    "df.columns = df.columns.str.replace( '.', '' ).str.replace( '/', '_' ).str.replace( '-', '_' ).str.replace( ' ', '_' ).str.lower().str.strip()"
   ]
  },
  {
   "cell_type": "code",
   "execution_count": 8,
   "id": "63fa8913",
   "metadata": {},
   "outputs": [
    {
     "data": {
      "text/html": [
       "<div>\n",
       "<style scoped>\n",
       "    .dataframe tbody tr th:only-of-type {\n",
       "        vertical-align: middle;\n",
       "    }\n",
       "\n",
       "    .dataframe tbody tr th {\n",
       "        vertical-align: top;\n",
       "    }\n",
       "\n",
       "    .dataframe thead th {\n",
       "        text-align: right;\n",
       "    }\n",
       "</style>\n",
       "<table border=\"1\" class=\"dataframe\">\n",
       "  <thead>\n",
       "    <tr style=\"text-align: right;\">\n",
       "      <th></th>\n",
       "      <th>nr_sessions</th>\n",
       "      <th>total_km</th>\n",
       "      <th>km_z3_4</th>\n",
       "      <th>km_z5_t1_t2</th>\n",
       "      <th>km_sprinting</th>\n",
       "      <th>strength_training</th>\n",
       "      <th>hours_alternative</th>\n",
       "      <th>perceived_exertion</th>\n",
       "      <th>perceived_trainingsuccess</th>\n",
       "      <th>perceived_recovery</th>\n",
       "      <th>athlete_id</th>\n",
       "      <th>injury</th>\n",
       "      <th>date</th>\n",
       "    </tr>\n",
       "  </thead>\n",
       "  <tbody>\n",
       "    <tr>\n",
       "      <th>0</th>\n",
       "      <td>1</td>\n",
       "      <td>5.8</td>\n",
       "      <td>0.0</td>\n",
       "      <td>0.6</td>\n",
       "      <td>1.2</td>\n",
       "      <td>0</td>\n",
       "      <td>0.00</td>\n",
       "      <td>0.11</td>\n",
       "      <td>0.00</td>\n",
       "      <td>0.18</td>\n",
       "      <td>0</td>\n",
       "      <td>0</td>\n",
       "      <td>0</td>\n",
       "    </tr>\n",
       "    <tr>\n",
       "      <th>1</th>\n",
       "      <td>0</td>\n",
       "      <td>0.0</td>\n",
       "      <td>0.0</td>\n",
       "      <td>0.0</td>\n",
       "      <td>0.0</td>\n",
       "      <td>0</td>\n",
       "      <td>0.00</td>\n",
       "      <td>-0.01</td>\n",
       "      <td>-0.01</td>\n",
       "      <td>-0.01</td>\n",
       "      <td>0</td>\n",
       "      <td>0</td>\n",
       "      <td>1</td>\n",
       "    </tr>\n",
       "    <tr>\n",
       "      <th>2</th>\n",
       "      <td>1</td>\n",
       "      <td>0.0</td>\n",
       "      <td>0.0</td>\n",
       "      <td>0.0</td>\n",
       "      <td>0.0</td>\n",
       "      <td>1</td>\n",
       "      <td>0.00</td>\n",
       "      <td>0.10</td>\n",
       "      <td>0.00</td>\n",
       "      <td>0.17</td>\n",
       "      <td>0</td>\n",
       "      <td>0</td>\n",
       "      <td>2</td>\n",
       "    </tr>\n",
       "    <tr>\n",
       "      <th>3</th>\n",
       "      <td>0</td>\n",
       "      <td>0.0</td>\n",
       "      <td>0.0</td>\n",
       "      <td>0.0</td>\n",
       "      <td>0.0</td>\n",
       "      <td>0</td>\n",
       "      <td>0.00</td>\n",
       "      <td>-0.01</td>\n",
       "      <td>-0.01</td>\n",
       "      <td>-0.01</td>\n",
       "      <td>0</td>\n",
       "      <td>0</td>\n",
       "      <td>3</td>\n",
       "    </tr>\n",
       "    <tr>\n",
       "      <th>4</th>\n",
       "      <td>1</td>\n",
       "      <td>0.0</td>\n",
       "      <td>0.0</td>\n",
       "      <td>0.0</td>\n",
       "      <td>0.0</td>\n",
       "      <td>0</td>\n",
       "      <td>1.08</td>\n",
       "      <td>0.08</td>\n",
       "      <td>0.00</td>\n",
       "      <td>0.18</td>\n",
       "      <td>0</td>\n",
       "      <td>0</td>\n",
       "      <td>4</td>\n",
       "    </tr>\n",
       "  </tbody>\n",
       "</table>\n",
       "</div>"
      ],
      "text/plain": [
       "   nr_sessions  total_km  km_z3_4  km_z5_t1_t2  km_sprinting  \\\n",
       "0            1       5.8      0.0          0.6           1.2   \n",
       "1            0       0.0      0.0          0.0           0.0   \n",
       "2            1       0.0      0.0          0.0           0.0   \n",
       "3            0       0.0      0.0          0.0           0.0   \n",
       "4            1       0.0      0.0          0.0           0.0   \n",
       "\n",
       "   strength_training  hours_alternative  perceived_exertion  \\\n",
       "0                  0               0.00                0.11   \n",
       "1                  0               0.00               -0.01   \n",
       "2                  1               0.00                0.10   \n",
       "3                  0               0.00               -0.01   \n",
       "4                  0               1.08                0.08   \n",
       "\n",
       "   perceived_trainingsuccess  perceived_recovery  athlete_id  injury  date  \n",
       "0                       0.00                0.18           0       0     0  \n",
       "1                      -0.01               -0.01           0       0     1  \n",
       "2                       0.00                0.17           0       0     2  \n",
       "3                      -0.01               -0.01           0       0     3  \n",
       "4                       0.00                0.18           0       0     4  "
      ]
     },
     "execution_count": 8,
     "metadata": {},
     "output_type": "execute_result"
    }
   ],
   "source": [
    "df.head()"
   ]
  },
  {
   "cell_type": "markdown",
   "id": "387662f3",
   "metadata": {},
   "source": [
    "#### B. Row (Cells)\n",
    "1. There is No Null value in first view\n",
    "2. When I check the type of data is compatible with columns\n",
    "3. T"
   ]
  },
  {
   "cell_type": "markdown",
   "id": "9f103841",
   "metadata": {},
   "source": [
    "### I Dont use str.replace to my dataset becuse all Data is not Object only Intger and Float"
   ]
  },
  {
   "cell_type": "code",
   "execution_count": 9,
   "id": "540dd053",
   "metadata": {},
   "outputs": [
    {
     "data": {
      "text/plain": [
       "nr_sessions                  0\n",
       "total_km                     0\n",
       "km_z3_4                      0\n",
       "km_z5_t1_t2                  0\n",
       "km_sprinting                 0\n",
       "strength_training            0\n",
       "hours_alternative            0\n",
       "perceived_exertion           0\n",
       "perceived_trainingsuccess    0\n",
       "perceived_recovery           0\n",
       "athlete_id                   0\n",
       "injury                       0\n",
       "date                         0\n",
       "dtype: int64"
      ]
     },
     "execution_count": 9,
     "metadata": {},
     "output_type": "execute_result"
    }
   ],
   "source": [
    "df.isna().sum()"
   ]
  },
  {
   "cell_type": "code",
   "execution_count": 10,
   "id": "c3c10b63",
   "metadata": {},
   "outputs": [
    {
     "data": {
      "text/plain": [
       "nr_sessions                    int64\n",
       "total_km                     float64\n",
       "km_z3_4                      float64\n",
       "km_z5_t1_t2                  float64\n",
       "km_sprinting                 float64\n",
       "strength_training              int64\n",
       "hours_alternative            float64\n",
       "perceived_exertion           float64\n",
       "perceived_trainingsuccess    float64\n",
       "perceived_recovery           float64\n",
       "athlete_id                     int64\n",
       "injury                         int64\n",
       "date                           int64\n",
       "dtype: object"
      ]
     },
     "execution_count": 10,
     "metadata": {},
     "output_type": "execute_result"
    }
   ],
   "source": [
    "df.dtypes"
   ]
  },
  {
   "cell_type": "code",
   "execution_count": 11,
   "id": "83a008fa",
   "metadata": {},
   "outputs": [
    {
     "name": "stdout",
     "output_type": "stream",
     "text": [
      "<class 'pandas.core.frame.DataFrame'>\n",
      "RangeIndex: 42766 entries, 0 to 42765\n",
      "Data columns (total 13 columns):\n",
      " #   Column                     Non-Null Count  Dtype  \n",
      "---  ------                     --------------  -----  \n",
      " 0   nr_sessions                42766 non-null  int64  \n",
      " 1   total_km                   42766 non-null  float64\n",
      " 2   km_z3_4                    42766 non-null  float64\n",
      " 3   km_z5_t1_t2                42766 non-null  float64\n",
      " 4   km_sprinting               42766 non-null  float64\n",
      " 5   strength_training          42766 non-null  int64  \n",
      " 6   hours_alternative          42766 non-null  float64\n",
      " 7   perceived_exertion         42766 non-null  float64\n",
      " 8   perceived_trainingsuccess  42766 non-null  float64\n",
      " 9   perceived_recovery         42766 non-null  float64\n",
      " 10  athlete_id                 42766 non-null  int64  \n",
      " 11  injury                     42766 non-null  int64  \n",
      " 12  date                       42766 non-null  int64  \n",
      "dtypes: float64(8), int64(5)\n",
      "memory usage: 4.2 MB\n"
     ]
    }
   ],
   "source": [
    "df.info()"
   ]
  },
  {
   "cell_type": "code",
   "execution_count": 12,
   "id": "2c0333f3",
   "metadata": {},
   "outputs": [
    {
     "data": {
      "text/plain": [
       "0"
      ]
     },
     "execution_count": 12,
     "metadata": {},
     "output_type": "execute_result"
    }
   ],
   "source": [
    "df.duplicated().sum()"
   ]
  },
  {
   "cell_type": "markdown",
   "id": "637b2c78",
   "metadata": {},
   "source": [
    "# Setp 3: EDA"
   ]
  },
  {
   "cell_type": "markdown",
   "id": "7c26aba4",
   "metadata": {},
   "source": [
    "### The Target will by <font color='blue'>injury</font>"
   ]
  },
  {
   "cell_type": "code",
   "execution_count": 13,
   "id": "16ed8aa6",
   "metadata": {},
   "outputs": [
    {
     "data": {
      "image/png": "[encoded data removed]",
      "text/plain": [
       "<Figure size 432x288 with 1 Axes>"
      ]
     },
     "metadata": {},
     "output_type": "display_data"
    }
   ],
   "source": [
    "sns.set_style('darkgrid')\n",
    "sns.countplot( x = 'injury', data = df, palette = 'Pastel2' );"
   ]
  },
  {
   "cell_type": "code",
   "execution_count": 14,
   "id": "029d14f2",
   "metadata": {},
   "outputs": [
    {
     "data": {
      "text/html": [
       "<div>\n",
       "<style scoped>\n",
       "    .dataframe tbody tr th:only-of-type {\n",
       "        vertical-align: middle;\n",
       "    }\n",
       "\n",
       "    .dataframe tbody tr th {\n",
       "        vertical-align: top;\n",
       "    }\n",
       "\n",
       "    .dataframe thead th {\n",
       "        text-align: right;\n",
       "    }\n",
       "</style>\n",
       "<table border=\"1\" class=\"dataframe\">\n",
       "  <thead>\n",
       "    <tr style=\"text-align: right;\">\n",
       "      <th></th>\n",
       "      <th>nr_sessions</th>\n",
       "      <th>total_km</th>\n",
       "      <th>km_z3_4</th>\n",
       "      <th>km_z5_t1_t2</th>\n",
       "      <th>km_sprinting</th>\n",
       "      <th>strength_training</th>\n",
       "      <th>hours_alternative</th>\n",
       "      <th>perceived_exertion</th>\n",
       "      <th>perceived_trainingsuccess</th>\n",
       "      <th>perceived_recovery</th>\n",
       "      <th>athlete_id</th>\n",
       "      <th>injury</th>\n",
       "      <th>date</th>\n",
       "    </tr>\n",
       "  </thead>\n",
       "  <tbody>\n",
       "    <tr>\n",
       "      <th>count</th>\n",
       "      <td>42766.000000</td>\n",
       "      <td>42766.000000</td>\n",
       "      <td>42766.000000</td>\n",
       "      <td>42766.000000</td>\n",
       "      <td>42766.000000</td>\n",
       "      <td>42766.000000</td>\n",
       "      <td>42766.000000</td>\n",
       "      <td>42766.000000</td>\n",
       "      <td>42766.000000</td>\n",
       "      <td>42766.000000</td>\n",
       "      <td>42766.000000</td>\n",
       "      <td>42766.000000</td>\n",
       "      <td>42766.000000</td>\n",
       "    </tr>\n",
       "    <tr>\n",
       "      <th>mean</th>\n",
       "      <td>0.829561</td>\n",
       "      <td>7.038187</td>\n",
       "      <td>0.691381</td>\n",
       "      <td>0.579930</td>\n",
       "      <td>0.073016</td>\n",
       "      <td>0.116237</td>\n",
       "      <td>0.163492</td>\n",
       "      <td>0.247788</td>\n",
       "      <td>0.349802</td>\n",
       "      <td>0.195898</td>\n",
       "      <td>34.550858</td>\n",
       "      <td>0.013632</td>\n",
       "      <td>1228.039892</td>\n",
       "    </tr>\n",
       "    <tr>\n",
       "      <th>std</th>\n",
       "      <td>0.580696</td>\n",
       "      <td>7.473216</td>\n",
       "      <td>2.317657</td>\n",
       "      <td>1.811938</td>\n",
       "      <td>0.483480</td>\n",
       "      <td>0.326010</td>\n",
       "      <td>0.549664</td>\n",
       "      <td>0.257262</td>\n",
       "      <td>0.368300</td>\n",
       "      <td>0.190321</td>\n",
       "      <td>19.050033</td>\n",
       "      <td>0.115960</td>\n",
       "      <td>807.021168</td>\n",
       "    </tr>\n",
       "    <tr>\n",
       "      <th>min</th>\n",
       "      <td>0.000000</td>\n",
       "      <td>0.000000</td>\n",
       "      <td>0.000000</td>\n",
       "      <td>0.000000</td>\n",
       "      <td>0.000000</td>\n",
       "      <td>0.000000</td>\n",
       "      <td>0.000000</td>\n",
       "      <td>-0.010000</td>\n",
       "      <td>-0.010000</td>\n",
       "      <td>-0.010000</td>\n",
       "      <td>0.000000</td>\n",
       "      <td>0.000000</td>\n",
       "      <td>0.000000</td>\n",
       "    </tr>\n",
       "    <tr>\n",
       "      <th>25%</th>\n",
       "      <td>0.000000</td>\n",
       "      <td>0.000000</td>\n",
       "      <td>0.000000</td>\n",
       "      <td>0.000000</td>\n",
       "      <td>0.000000</td>\n",
       "      <td>0.000000</td>\n",
       "      <td>0.000000</td>\n",
       "      <td>-0.010000</td>\n",
       "      <td>-0.010000</td>\n",
       "      <td>-0.010000</td>\n",
       "      <td>20.000000</td>\n",
       "      <td>0.000000</td>\n",
       "      <td>436.000000</td>\n",
       "    </tr>\n",
       "    <tr>\n",
       "      <th>50%</th>\n",
       "      <td>1.000000</td>\n",
       "      <td>6.000000</td>\n",
       "      <td>0.000000</td>\n",
       "      <td>0.000000</td>\n",
       "      <td>0.000000</td>\n",
       "      <td>0.000000</td>\n",
       "      <td>0.000000</td>\n",
       "      <td>0.160000</td>\n",
       "      <td>0.260000</td>\n",
       "      <td>0.160000</td>\n",
       "      <td>34.000000</td>\n",
       "      <td>0.000000</td>\n",
       "      <td>1256.000000</td>\n",
       "    </tr>\n",
       "    <tr>\n",
       "      <th>75%</th>\n",
       "      <td>1.000000</td>\n",
       "      <td>12.000000</td>\n",
       "      <td>0.000000</td>\n",
       "      <td>0.000000</td>\n",
       "      <td>0.000000</td>\n",
       "      <td>0.000000</td>\n",
       "      <td>0.000000</td>\n",
       "      <td>0.440000</td>\n",
       "      <td>0.720000</td>\n",
       "      <td>0.300000</td>\n",
       "      <td>50.000000</td>\n",
       "      <td>0.000000</td>\n",
       "      <td>1913.000000</td>\n",
       "    </tr>\n",
       "    <tr>\n",
       "      <th>max</th>\n",
       "      <td>2.000000</td>\n",
       "      <td>55.900000</td>\n",
       "      <td>42.200000</td>\n",
       "      <td>48.000000</td>\n",
       "      <td>40.000000</td>\n",
       "      <td>2.000000</td>\n",
       "      <td>10.220000</td>\n",
       "      <td>1.000000</td>\n",
       "      <td>1.000000</td>\n",
       "      <td>1.000000</td>\n",
       "      <td>73.000000</td>\n",
       "      <td>1.000000</td>\n",
       "      <td>2673.000000</td>\n",
       "    </tr>\n",
       "  </tbody>\n",
       "</table>\n",
       "</div>"
      ],
      "text/plain": [
       "        nr_sessions      total_km       km_z3_4   km_z5_t1_t2  km_sprinting  \\\n",
       "count  42766.000000  42766.000000  42766.000000  42766.000000  42766.000000   \n",
       "mean       0.829561      7.038187      0.691381      0.579930      0.073016   \n",
       "std        0.580696      7.473216      2.317657      1.811938      0.483480   \n",
       "min        0.000000      0.000000      0.000000      0.000000      0.000000   \n",
       "25%        0.000000      0.000000      0.000000      0.000000      0.000000   \n",
       "50%        1.000000      6.000000      0.000000      0.000000      0.000000   \n",
       "75%        1.000000     12.000000      0.000000      0.000000      0.000000   \n",
       "max        2.000000     55.900000     42.200000     48.000000     40.000000   \n",
       "\n",
       "       strength_training  hours_alternative  perceived_exertion  \\\n",
       "count       42766.000000       42766.000000        42766.000000   \n",
       "mean            0.116237           0.163492            0.247788   \n",
       "std             0.326010           0.549664            0.257262   \n",
       "min             0.000000           0.000000           -0.010000   \n",
       "25%             0.000000           0.000000           -0.010000   \n",
       "50%             0.000000           0.000000            0.160000   \n",
       "75%             0.000000           0.000000            0.440000   \n",
       "max             2.000000          10.220000            1.000000   \n",
       "\n",
       "       perceived_trainingsuccess  perceived_recovery    athlete_id  \\\n",
       "count               42766.000000        42766.000000  42766.000000   \n",
       "mean                    0.349802            0.195898     34.550858   \n",
       "std                     0.368300            0.190321     19.050033   \n",
       "min                    -0.010000           -0.010000      0.000000   \n",
       "25%                    -0.010000           -0.010000     20.000000   \n",
       "50%                     0.260000            0.160000     34.000000   \n",
       "75%                     0.720000            0.300000     50.000000   \n",
       "max                     1.000000            1.000000     73.000000   \n",
       "\n",
       "             injury          date  \n",
       "count  42766.000000  42766.000000  \n",
       "mean       0.013632   1228.039892  \n",
       "std        0.115960    807.021168  \n",
       "min        0.000000      0.000000  \n",
       "25%        0.000000    436.000000  \n",
       "50%        0.000000   1256.000000  \n",
       "75%        0.000000   1913.000000  \n",
       "max        1.000000   2673.000000  "
      ]
     },
     "execution_count": 14,
     "metadata": {},
     "output_type": "execute_result"
    }
   ],
   "source": [
    "df.describe()"
   ]
  },
  {
   "cell_type": "code",
   "execution_count": 15,
   "id": "6e8f204b",
   "metadata": {},
   "outputs": [
    {
     "data": {
      "text/plain": [
       "count    42766.000000\n",
       "mean         0.013632\n",
       "std          0.115960\n",
       "min          0.000000\n",
       "25%          0.000000\n",
       "50%          0.000000\n",
       "75%          0.000000\n",
       "max          1.000000\n",
       "Name: injury, dtype: float64"
      ]
     },
     "execution_count": 15,
     "metadata": {},
     "output_type": "execute_result"
    }
   ],
   "source": [
    "df.injury.describe()"
   ]
  },
  {
   "cell_type": "code",
   "execution_count": 16,
   "id": "2d357338",
   "metadata": {},
   "outputs": [
    {
     "data": {
      "image/png": "[encoded data removed]",
      "text/plain": [
       "<Figure size 432x648 with 6 Axes>"
      ]
     },
     "metadata": {},
     "output_type": "display_data"
    }
   ],
   "source": [
    "g = sns.FacetGrid(df, col='injury', row='strength_training')\n",
    "g.map_dataframe(sns.histplot, x= 'date');"
   ]
  },
  {
   "cell_type": "code",
   "execution_count": 17,
   "id": "6052bbc7",
   "metadata": {},
   "outputs": [
    {
     "data": {
      "text/plain": [
       "array([0, 1])"
      ]
     },
     "execution_count": 17,
     "metadata": {},
     "output_type": "execute_result"
    }
   ],
   "source": [
    "#df.duplicated().sum()\n",
    "#df[col].nunique()\n",
    "df['injury'].unique()\n",
    "#df['strength_training'].unique()"
   ]
  },
  {
   "cell_type": "markdown",
   "id": "32f5a89f",
   "metadata": {},
   "source": [
    "# Step 4: Model"
   ]
  },
  {
   "cell_type": "code",
   "execution_count": 18,
   "id": "2f04afb6",
   "metadata": {},
   "outputs": [
    {
     "name": "stdout",
     "output_type": "stream",
     "text": [
      "              precision    recall  f1-score   support\n",
      "\n",
      "           0       0.99      1.00      0.99      8435\n",
      "           1       0.00      0.00      0.00       119\n",
      "\n",
      "    accuracy                           0.99      8554\n",
      "   macro avg       0.49      0.50      0.50      8554\n",
      "weighted avg       0.97      0.99      0.98      8554\n",
      "\n"
     ]
    },
    {
     "name": "stderr",
     "output_type": "stream",
     "text": [
      "/home/abdulwahab/anaconda3/envs/metis/lib/python3.9/site-packages/sklearn/linear_model/_logistic.py:814: ConvergenceWarning: lbfgs failed to converge (status=1):\n",
      "STOP: TOTAL NO. of ITERATIONS REACHED LIMIT.\n",
      "\n",
      "Increase the number of iterations (max_iter) or scale the data as shown in:\n",
      "    https://scikit-learn.org/stable/modules/preprocessing.html\n",
      "Please also refer to the documentation for alternative solver options:\n",
      "    https://scikit-learn.org/stable/modules/linear_model.html#logistic-regression\n",
      "  n_iter_i = _check_optimize_result(\n",
      "/home/abdulwahab/anaconda3/envs/metis/lib/python3.9/site-packages/sklearn/metrics/_classification.py:1308: UndefinedMetricWarning: Precision and F-score are ill-defined and being set to 0.0 in labels with no predicted samples. Use `zero_division` parameter to control this behavior.\n",
      "  _warn_prf(average, modifier, msg_start, len(result))\n",
      "/home/abdulwahab/anaconda3/envs/metis/lib/python3.9/site-packages/sklearn/metrics/_classification.py:1308: UndefinedMetricWarning: Precision and F-score are ill-defined and being set to 0.0 in labels with no predicted samples. Use `zero_division` parameter to control this behavior.\n",
      "  _warn_prf(average, modifier, msg_start, len(result))\n",
      "/home/abdulwahab/anaconda3/envs/metis/lib/python3.9/site-packages/sklearn/metrics/_classification.py:1308: UndefinedMetricWarning: Precision and F-score are ill-defined and being set to 0.0 in labels with no predicted samples. Use `zero_division` parameter to control this behavior.\n",
      "  _warn_prf(average, modifier, msg_start, len(result))\n"
     ]
    }
   ],
   "source": [
    "x=df.drop(columns=['injury']) \n",
    "y= df.injury\n",
    "\n",
    "x_train, x_test, y_train, y_test = train_test_split(x, y, test_size = 0.2, random_state=10) \n",
    "lr_model = LogisticRegression() \n",
    "lr_model.fit(x_train, y_train) \n",
    "y_pred = lr_model.predict(x_test) \n",
    "print(classification_report(y_test, y_pred)) "
   ]
  },
  {
   "cell_type": "markdown",
   "id": "b4916848",
   "metadata": {},
   "source": [
    "## For Test ## \n",
    "rf_model = RandomForestRegressor()\n",
    "rf_model.fit(x_train, y_train)\n",
    "\n",
    "y_pred = rf_model.predict(x_test)\n",
    "print('The Random Forest  Model R-Square {:.2f} %, MAPE is {:.2f} %' .format(r2_score(y_pred, y_test)*100, mean_absolute_percentage_error(y_test, y_pred)*100))\n"
   ]
  },
  {
   "cell_type": "code",
   "execution_count": 31,
   "id": "b83003bd",
   "metadata": {},
   "outputs": [
    {
     "name": "stdout",
     "output_type": "stream",
     "text": [
      "Accuracy Score: 0.9729950900163666\n",
      "              precision    recall  f1-score   support\n",
      "\n",
      "           0       0.99      0.99      0.99      8435\n",
      "           1       0.09      0.11      0.10       119\n",
      "\n",
      "    accuracy                           0.97      8554\n",
      "   macro avg       0.54      0.55      0.54      8554\n",
      "weighted avg       0.97      0.97      0.97      8554\n",
      "\n"
     ]
    }
   ],
   "source": [
    "from sklearn.tree import DecisionTreeClassifier\n",
    "model = DecisionTreeClassifier(criterion='entropy',random_state=7)\n",
    "model.fit(x_train,y_train)\n",
    "y_pred = model.predict(x_test)\n",
    "\n",
    "from sklearn.metrics import accuracy_score\n",
    "print(\"Accuracy Score:\",accuracy_score(y_test,y_pred))\n",
    "print(classification_report(y_test,y_pred))\n",
    "\n"
   ]
  }
 ],
 "metadata": {
  "kernelspec": {
   "display_name": "Python 3 (ipykernel)",
   "language": "python",
   "name": "python3"
  },
  "language_info": {
   "codemirror_mode": {
    "name": "ipython",
    "version": 3
   },
   "file_extension": ".py",
   "mimetype": "text/x-python",
   "name": "python",
   "nbconvert_exporter": "python",
   "pygments_lexer": "ipython3",
   "version": "3.9.7"
  }
 },
 "nbformat": 4,
 "nbformat_minor": 5
}
