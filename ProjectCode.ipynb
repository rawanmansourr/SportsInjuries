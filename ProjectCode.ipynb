{
  "cells": [
    {
      "cell_type": "markdown",
      "metadata": {
        "id": "7a5ff45e"
      },
      "source": [
        "# Step 0: Import Lib"
      ],
      "id": "7a5ff45e"
    },
    {
      "cell_type": "code",
      "execution_count": 74,
      "metadata": {
        "colab": {
          "base_uri": "https://localhost:8080/"
        },
        "id": "9e5cf5ac",
        "outputId": "dd7092e0-079c-419f-80ea-5df7ccfb062b"
      },
      "outputs": [
        {
          "output_type": "stream",
          "name": "stdout",
          "text": [
            "Populating the interactive namespace from numpy and matplotlib\n"
          ]
        }
      ],
      "source": [
        "import pandas as pd\n",
        "import numpy as np\n",
        "import matplotlib.pyplot as plt\n",
        "import seaborn as sns\n",
        "%pylab inline\n",
        "from sklearn.datasets import fetch_california_housing\n",
        "from sklearn.datasets import load_breast_cancer\n",
        "from sklearn.metrics import accuracy_score\n",
        "from sklearn.model_selection import train_test_split\n",
        "from sklearn.metrics import classification_report \n",
        "from sklearn.linear_model import LogisticRegression\n",
        "from sklearn.metrics import mean_absolute_percentage_error\n",
        "from sklearn.metrics import confusion_matrix\n",
        "from imblearn.over_sampling import SMOTE\n",
        "from sklearn.metrics import accuracy_score\n",
        "import xgboost as xgb\n",
        "import warnings\n",
        "from sklearn import model_selection\n",
        "from sklearn.discriminant_analysis import LinearDiscriminantAnalysis\n",
        "from xgboost import XGBClassifier\n"
      ],
      "id": "9e5cf5ac"
    },
    {
      "cell_type": "markdown",
      "metadata": {
        "id": "a15b0fb1"
      },
      "source": [
        "# Step 1: Load Data"
      ],
      "id": "a15b0fb1"
    },
    {
      "cell_type": "code",
      "execution_count": 75,
      "metadata": {
        "id": "a1faf4a8"
      },
      "outputs": [],
      "source": [
        "df = pd.read_csv('https://raw.githubusercontent.com/rawanmansourr/SportsInjuries/main/Sesstion.csv')"
      ],
      "id": "a1faf4a8"
    },
    {
      "cell_type": "code",
      "execution_count": 76,
      "metadata": {
        "colab": {
          "base_uri": "https://localhost:8080/"
        },
        "id": "5309c5a1",
        "outputId": "2e03814d-7402-4783-f6fb-55b904284b03"
      },
      "outputs": [
        {
          "output_type": "execute_result",
          "data": {
            "text/plain": [
              "(42766, 13)"
            ]
          },
          "metadata": {},
          "execution_count": 76
        }
      ],
      "source": [
        "df.shape"
      ],
      "id": "5309c5a1"
    },
    {
      "cell_type": "code",
      "execution_count": 77,
      "metadata": {
        "colab": {
          "base_uri": "https://localhost:8080/",
          "height": 206
        },
        "id": "9d506ae8",
        "outputId": "97d3d9d1-e4ae-44cf-c3fc-92d093122461"
      },
      "outputs": [
        {
          "output_type": "execute_result",
          "data": {
            "text/html": [
              "\n",
              "  <div id=\"df-aff03a0e-039f-48fa-919e-1e631c29c5f1\">\n",
              "    <div class=\"colab-df-container\">\n",
              "      <div>\n",
              "<style scoped>\n",
              "    .dataframe tbody tr th:only-of-type {\n",
              "        vertical-align: middle;\n",
              "    }\n",
              "\n",
              "    .dataframe tbody tr th {\n",
              "        vertical-align: top;\n",
              "    }\n",
              "\n",
              "    .dataframe thead th {\n",
              "        text-align: right;\n",
              "    }\n",
              "</style>\n",
              "<table border=\"1\" class=\"dataframe\">\n",
              "  <thead>\n",
              "    <tr style=\"text-align: right;\">\n",
              "      <th></th>\n",
              "      <th>nr. sessions</th>\n",
              "      <th>total km</th>\n",
              "      <th>km Z3-4</th>\n",
              "      <th>km Z5-T1-T2</th>\n",
              "      <th>km sprinting</th>\n",
              "      <th>strength training</th>\n",
              "      <th>hours alternative</th>\n",
              "      <th>perceived exertion</th>\n",
              "      <th>perceived trainingSuccess</th>\n",
              "      <th>perceived recovery</th>\n",
              "      <th>Athlete ID</th>\n",
              "      <th>injury</th>\n",
              "      <th>Date</th>\n",
              "    </tr>\n",
              "  </thead>\n",
              "  <tbody>\n",
              "    <tr>\n",
              "      <th>0</th>\n",
              "      <td>1</td>\n",
              "      <td>5.8</td>\n",
              "      <td>0.0</td>\n",
              "      <td>0.6</td>\n",
              "      <td>1.2</td>\n",
              "      <td>0</td>\n",
              "      <td>0.00</td>\n",
              "      <td>0.11</td>\n",
              "      <td>0.00</td>\n",
              "      <td>0.18</td>\n",
              "      <td>0</td>\n",
              "      <td>0</td>\n",
              "      <td>0</td>\n",
              "    </tr>\n",
              "    <tr>\n",
              "      <th>1</th>\n",
              "      <td>0</td>\n",
              "      <td>0.0</td>\n",
              "      <td>0.0</td>\n",
              "      <td>0.0</td>\n",
              "      <td>0.0</td>\n",
              "      <td>0</td>\n",
              "      <td>0.00</td>\n",
              "      <td>-0.01</td>\n",
              "      <td>-0.01</td>\n",
              "      <td>-0.01</td>\n",
              "      <td>0</td>\n",
              "      <td>0</td>\n",
              "      <td>1</td>\n",
              "    </tr>\n",
              "    <tr>\n",
              "      <th>2</th>\n",
              "      <td>1</td>\n",
              "      <td>0.0</td>\n",
              "      <td>0.0</td>\n",
              "      <td>0.0</td>\n",
              "      <td>0.0</td>\n",
              "      <td>1</td>\n",
              "      <td>0.00</td>\n",
              "      <td>0.10</td>\n",
              "      <td>0.00</td>\n",
              "      <td>0.17</td>\n",
              "      <td>0</td>\n",
              "      <td>0</td>\n",
              "      <td>2</td>\n",
              "    </tr>\n",
              "    <tr>\n",
              "      <th>3</th>\n",
              "      <td>0</td>\n",
              "      <td>0.0</td>\n",
              "      <td>0.0</td>\n",
              "      <td>0.0</td>\n",
              "      <td>0.0</td>\n",
              "      <td>0</td>\n",
              "      <td>0.00</td>\n",
              "      <td>-0.01</td>\n",
              "      <td>-0.01</td>\n",
              "      <td>-0.01</td>\n",
              "      <td>0</td>\n",
              "      <td>0</td>\n",
              "      <td>3</td>\n",
              "    </tr>\n",
              "    <tr>\n",
              "      <th>4</th>\n",
              "      <td>1</td>\n",
              "      <td>0.0</td>\n",
              "      <td>0.0</td>\n",
              "      <td>0.0</td>\n",
              "      <td>0.0</td>\n",
              "      <td>0</td>\n",
              "      <td>1.08</td>\n",
              "      <td>0.08</td>\n",
              "      <td>0.00</td>\n",
              "      <td>0.18</td>\n",
              "      <td>0</td>\n",
              "      <td>0</td>\n",
              "      <td>4</td>\n",
              "    </tr>\n",
              "  </tbody>\n",
              "</table>\n",
              "</div>\n",
              "      <button class=\"colab-df-convert\" onclick=\"convertToInteractive('df-aff03a0e-039f-48fa-919e-1e631c29c5f1')\"\n",
              "              title=\"Convert this dataframe to an interactive table.\"\n",
              "              style=\"display:none;\">\n",
              "        \n",
              "  <svg xmlns=\"http://www.w3.org/2000/svg\" height=\"24px\"viewBox=\"0 0 24 24\"\n",
              "       width=\"24px\">\n",
              "    <path d=\"M0 0h24v24H0V0z\" fill=\"none\"/>\n",
              "    <path d=\"M18.56 5.44l.94 2.06.94-2.06 2.06-.94-2.06-.94-.94-2.06-.94 2.06-2.06.94zm-11 1L8.5 8.5l.94-2.06 2.06-.94-2.06-.94L8.5 2.5l-.94 2.06-2.06.94zm10 10l.94 2.06.94-2.06 2.06-.94-2.06-.94-.94-2.06-.94 2.06-2.06.94z\"/><path d=\"M17.41 7.96l-1.37-1.37c-.4-.4-.92-.59-1.43-.59-.52 0-1.04.2-1.43.59L10.3 9.45l-7.72 7.72c-.78.78-.78 2.05 0 2.83L4 21.41c.39.39.9.59 1.41.59.51 0 1.02-.2 1.41-.59l7.78-7.78 2.81-2.81c.8-.78.8-2.07 0-2.86zM5.41 20L4 18.59l7.72-7.72 1.47 1.35L5.41 20z\"/>\n",
              "  </svg>\n",
              "      </button>\n",
              "      \n",
              "  <style>\n",
              "    .colab-df-container {\n",
              "      display:flex;\n",
              "      flex-wrap:wrap;\n",
              "      gap: 12px;\n",
              "    }\n",
              "\n",
              "    .colab-df-convert {\n",
              "      background-color: #E8F0FE;\n",
              "      border: none;\n",
              "      border-radius: 50%;\n",
              "      cursor: pointer;\n",
              "      display: none;\n",
              "      fill: #1967D2;\n",
              "      height: 32px;\n",
              "      padding: 0 0 0 0;\n",
              "      width: 32px;\n",
              "    }\n",
              "\n",
              "    .colab-df-convert:hover {\n",
              "      background-color: #E2EBFA;\n",
              "      box-shadow: 0px 1px 2px rgba(60, 64, 67, 0.3), 0px 1px 3px 1px rgba(60, 64, 67, 0.15);\n",
              "      fill: #174EA6;\n",
              "    }\n",
              "\n",
              "    [theme=dark] .colab-df-convert {\n",
              "      background-color: #3B4455;\n",
              "      fill: #D2E3FC;\n",
              "    }\n",
              "\n",
              "    [theme=dark] .colab-df-convert:hover {\n",
              "      background-color: #434B5C;\n",
              "      box-shadow: 0px 1px 3px 1px rgba(0, 0, 0, 0.15);\n",
              "      filter: drop-shadow(0px 1px 2px rgba(0, 0, 0, 0.3));\n",
              "      fill: #FFFFFF;\n",
              "    }\n",
              "  </style>\n",
              "\n",
              "      <script>\n",
              "        const buttonEl =\n",
              "          document.querySelector('#df-aff03a0e-039f-48fa-919e-1e631c29c5f1 button.colab-df-convert');\n",
              "        buttonEl.style.display =\n",
              "          google.colab.kernel.accessAllowed ? 'block' : 'none';\n",
              "\n",
              "        async function convertToInteractive(key) {\n",
              "          const element = document.querySelector('#df-aff03a0e-039f-48fa-919e-1e631c29c5f1');\n",
              "          const dataTable =\n",
              "            await google.colab.kernel.invokeFunction('convertToInteractive',\n",
              "                                                     [key], {});\n",
              "          if (!dataTable) return;\n",
              "\n",
              "          const docLinkHtml = 'Like what you see? Visit the ' +\n",
              "            '<a target=\"_blank\" href=https://colab.research.google.com/notebooks/data_table.ipynb>data table notebook</a>'\n",
              "            + ' to learn more about interactive tables.';\n",
              "          element.innerHTML = '';\n",
              "          dataTable['output_type'] = 'display_data';\n",
              "          await google.colab.output.renderOutput(dataTable, element);\n",
              "          const docLink = document.createElement('div');\n",
              "          docLink.innerHTML = docLinkHtml;\n",
              "          element.appendChild(docLink);\n",
              "        }\n",
              "      </script>\n",
              "    </div>\n",
              "  </div>\n",
              "  "
            ],
            "text/plain": [
              "   nr. sessions  total km  km Z3-4  ...  Athlete ID  injury  Date\n",
              "0             1       5.8      0.0  ...           0       0     0\n",
              "1             0       0.0      0.0  ...           0       0     1\n",
              "2             1       0.0      0.0  ...           0       0     2\n",
              "3             0       0.0      0.0  ...           0       0     3\n",
              "4             1       0.0      0.0  ...           0       0     4\n",
              "\n",
              "[5 rows x 13 columns]"
            ]
          },
          "metadata": {},
          "execution_count": 77
        }
      ],
      "source": [
        "df.head()\n",
        "#df.columns"
      ],
      "id": "9d506ae8"
    },
    {
      "cell_type": "markdown",
      "metadata": {
        "id": "7e6d28e8"
      },
      "source": [
        "# Step 2: Cleaning Data"
      ],
      "id": "7e6d28e8"
    },
    {
      "cell_type": "markdown",
      "metadata": {
        "id": "b6b248f0"
      },
      "source": [
        "#####          A. Columns\n",
        "1. Relace column it have the \".\" with \"_\" \n",
        "2. Relace column it have the \" \" with \"_\" \n",
        "3. Relace column it have the \"-\" with \"_\" \n",
        "4. Lower Case"
      ],
      "id": "b6b248f0"
    },
    {
      "cell_type": "code",
      "execution_count": 78,
      "metadata": {
        "id": "2be11430"
      },
      "outputs": [],
      "source": [
        "df.columns = df.columns.str.replace( '.', '' ).str.replace( '/', '_' ).str.replace( '-', '_' ).str.replace( ' ', '_' ).str.lower().str.strip()"
      ],
      "id": "2be11430"
    },
    {
      "cell_type": "code",
      "execution_count": 79,
      "metadata": {
        "colab": {
          "base_uri": "https://localhost:8080/",
          "height": 206
        },
        "id": "63fa8913",
        "outputId": "f6aa63ca-3365-406f-a589-317d696dd263"
      },
      "outputs": [
        {
          "output_type": "execute_result",
          "data": {
            "text/html": [
              "\n",
              "  <div id=\"df-0adc0de2-ba49-44fd-b2a2-9a3dbc14526b\">\n",
              "    <div class=\"colab-df-container\">\n",
              "      <div>\n",
              "<style scoped>\n",
              "    .dataframe tbody tr th:only-of-type {\n",
              "        vertical-align: middle;\n",
              "    }\n",
              "\n",
              "    .dataframe tbody tr th {\n",
              "        vertical-align: top;\n",
              "    }\n",
              "\n",
              "    .dataframe thead th {\n",
              "        text-align: right;\n",
              "    }\n",
              "</style>\n",
              "<table border=\"1\" class=\"dataframe\">\n",
              "  <thead>\n",
              "    <tr style=\"text-align: right;\">\n",
              "      <th></th>\n",
              "      <th>nr_sessions</th>\n",
              "      <th>total_km</th>\n",
              "      <th>km_z3_4</th>\n",
              "      <th>km_z5_t1_t2</th>\n",
              "      <th>km_sprinting</th>\n",
              "      <th>strength_training</th>\n",
              "      <th>hours_alternative</th>\n",
              "      <th>perceived_exertion</th>\n",
              "      <th>perceived_trainingsuccess</th>\n",
              "      <th>perceived_recovery</th>\n",
              "      <th>athlete_id</th>\n",
              "      <th>injury</th>\n",
              "      <th>date</th>\n",
              "    </tr>\n",
              "  </thead>\n",
              "  <tbody>\n",
              "    <tr>\n",
              "      <th>0</th>\n",
              "      <td>1</td>\n",
              "      <td>5.8</td>\n",
              "      <td>0.0</td>\n",
              "      <td>0.6</td>\n",
              "      <td>1.2</td>\n",
              "      <td>0</td>\n",
              "      <td>0.00</td>\n",
              "      <td>0.11</td>\n",
              "      <td>0.00</td>\n",
              "      <td>0.18</td>\n",
              "      <td>0</td>\n",
              "      <td>0</td>\n",
              "      <td>0</td>\n",
              "    </tr>\n",
              "    <tr>\n",
              "      <th>1</th>\n",
              "      <td>0</td>\n",
              "      <td>0.0</td>\n",
              "      <td>0.0</td>\n",
              "      <td>0.0</td>\n",
              "      <td>0.0</td>\n",
              "      <td>0</td>\n",
              "      <td>0.00</td>\n",
              "      <td>-0.01</td>\n",
              "      <td>-0.01</td>\n",
              "      <td>-0.01</td>\n",
              "      <td>0</td>\n",
              "      <td>0</td>\n",
              "      <td>1</td>\n",
              "    </tr>\n",
              "    <tr>\n",
              "      <th>2</th>\n",
              "      <td>1</td>\n",
              "      <td>0.0</td>\n",
              "      <td>0.0</td>\n",
              "      <td>0.0</td>\n",
              "      <td>0.0</td>\n",
              "      <td>1</td>\n",
              "      <td>0.00</td>\n",
              "      <td>0.10</td>\n",
              "      <td>0.00</td>\n",
              "      <td>0.17</td>\n",
              "      <td>0</td>\n",
              "      <td>0</td>\n",
              "      <td>2</td>\n",
              "    </tr>\n",
              "    <tr>\n",
              "      <th>3</th>\n",
              "      <td>0</td>\n",
              "      <td>0.0</td>\n",
              "      <td>0.0</td>\n",
              "      <td>0.0</td>\n",
              "      <td>0.0</td>\n",
              "      <td>0</td>\n",
              "      <td>0.00</td>\n",
              "      <td>-0.01</td>\n",
              "      <td>-0.01</td>\n",
              "      <td>-0.01</td>\n",
              "      <td>0</td>\n",
              "      <td>0</td>\n",
              "      <td>3</td>\n",
              "    </tr>\n",
              "    <tr>\n",
              "      <th>4</th>\n",
              "      <td>1</td>\n",
              "      <td>0.0</td>\n",
              "      <td>0.0</td>\n",
              "      <td>0.0</td>\n",
              "      <td>0.0</td>\n",
              "      <td>0</td>\n",
              "      <td>1.08</td>\n",
              "      <td>0.08</td>\n",
              "      <td>0.00</td>\n",
              "      <td>0.18</td>\n",
              "      <td>0</td>\n",
              "      <td>0</td>\n",
              "      <td>4</td>\n",
              "    </tr>\n",
              "  </tbody>\n",
              "</table>\n",
              "</div>\n",
              "      <button class=\"colab-df-convert\" onclick=\"convertToInteractive('df-0adc0de2-ba49-44fd-b2a2-9a3dbc14526b')\"\n",
              "              title=\"Convert this dataframe to an interactive table.\"\n",
              "              style=\"display:none;\">\n",
              "        \n",
              "  <svg xmlns=\"http://www.w3.org/2000/svg\" height=\"24px\"viewBox=\"0 0 24 24\"\n",
              "       width=\"24px\">\n",
              "    <path d=\"M0 0h24v24H0V0z\" fill=\"none\"/>\n",
              "    <path d=\"M18.56 5.44l.94 2.06.94-2.06 2.06-.94-2.06-.94-.94-2.06-.94 2.06-2.06.94zm-11 1L8.5 8.5l.94-2.06 2.06-.94-2.06-.94L8.5 2.5l-.94 2.06-2.06.94zm10 10l.94 2.06.94-2.06 2.06-.94-2.06-.94-.94-2.06-.94 2.06-2.06.94z\"/><path d=\"M17.41 7.96l-1.37-1.37c-.4-.4-.92-.59-1.43-.59-.52 0-1.04.2-1.43.59L10.3 9.45l-7.72 7.72c-.78.78-.78 2.05 0 2.83L4 21.41c.39.39.9.59 1.41.59.51 0 1.02-.2 1.41-.59l7.78-7.78 2.81-2.81c.8-.78.8-2.07 0-2.86zM5.41 20L4 18.59l7.72-7.72 1.47 1.35L5.41 20z\"/>\n",
              "  </svg>\n",
              "      </button>\n",
              "      \n",
              "  <style>\n",
              "    .colab-df-container {\n",
              "      display:flex;\n",
              "      flex-wrap:wrap;\n",
              "      gap: 12px;\n",
              "    }\n",
              "\n",
              "    .colab-df-convert {\n",
              "      background-color: #E8F0FE;\n",
              "      border: none;\n",
              "      border-radius: 50%;\n",
              "      cursor: pointer;\n",
              "      display: none;\n",
              "      fill: #1967D2;\n",
              "      height: 32px;\n",
              "      padding: 0 0 0 0;\n",
              "      width: 32px;\n",
              "    }\n",
              "\n",
              "    .colab-df-convert:hover {\n",
              "      background-color: #E2EBFA;\n",
              "      box-shadow: 0px 1px 2px rgba(60, 64, 67, 0.3), 0px 1px 3px 1px rgba(60, 64, 67, 0.15);\n",
              "      fill: #174EA6;\n",
              "    }\n",
              "\n",
              "    [theme=dark] .colab-df-convert {\n",
              "      background-color: #3B4455;\n",
              "      fill: #D2E3FC;\n",
              "    }\n",
              "\n",
              "    [theme=dark] .colab-df-convert:hover {\n",
              "      background-color: #434B5C;\n",
              "      box-shadow: 0px 1px 3px 1px rgba(0, 0, 0, 0.15);\n",
              "      filter: drop-shadow(0px 1px 2px rgba(0, 0, 0, 0.3));\n",
              "      fill: #FFFFFF;\n",
              "    }\n",
              "  </style>\n",
              "\n",
              "      <script>\n",
              "        const buttonEl =\n",
              "          document.querySelector('#df-0adc0de2-ba49-44fd-b2a2-9a3dbc14526b button.colab-df-convert');\n",
              "        buttonEl.style.display =\n",
              "          google.colab.kernel.accessAllowed ? 'block' : 'none';\n",
              "\n",
              "        async function convertToInteractive(key) {\n",
              "          const element = document.querySelector('#df-0adc0de2-ba49-44fd-b2a2-9a3dbc14526b');\n",
              "          const dataTable =\n",
              "            await google.colab.kernel.invokeFunction('convertToInteractive',\n",
              "                                                     [key], {});\n",
              "          if (!dataTable) return;\n",
              "\n",
              "          const docLinkHtml = 'Like what you see? Visit the ' +\n",
              "            '<a target=\"_blank\" href=https://colab.research.google.com/notebooks/data_table.ipynb>data table notebook</a>'\n",
              "            + ' to learn more about interactive tables.';\n",
              "          element.innerHTML = '';\n",
              "          dataTable['output_type'] = 'display_data';\n",
              "          await google.colab.output.renderOutput(dataTable, element);\n",
              "          const docLink = document.createElement('div');\n",
              "          docLink.innerHTML = docLinkHtml;\n",
              "          element.appendChild(docLink);\n",
              "        }\n",
              "      </script>\n",
              "    </div>\n",
              "  </div>\n",
              "  "
            ],
            "text/plain": [
              "   nr_sessions  total_km  km_z3_4  ...  athlete_id  injury  date\n",
              "0            1       5.8      0.0  ...           0       0     0\n",
              "1            0       0.0      0.0  ...           0       0     1\n",
              "2            1       0.0      0.0  ...           0       0     2\n",
              "3            0       0.0      0.0  ...           0       0     3\n",
              "4            1       0.0      0.0  ...           0       0     4\n",
              "\n",
              "[5 rows x 13 columns]"
            ]
          },
          "metadata": {},
          "execution_count": 79
        }
      ],
      "source": [
        "df.head()"
      ],
      "id": "63fa8913"
    },
    {
      "cell_type": "markdown",
      "metadata": {
        "id": "387662f3"
      },
      "source": [
        "#### B. Row (Cells)\n",
        "1. There is No Null value in first view\n",
        "2. When I check the type of data is compatible with columns\n",
        "3. T"
      ],
      "id": "387662f3"
    },
    {
      "cell_type": "markdown",
      "metadata": {
        "id": "9f103841"
      },
      "source": [
        "### I Dont use str.replace to my dataset becuse all Data is not Object only Intger and Float"
      ],
      "id": "9f103841"
    },
    {
      "cell_type": "code",
      "execution_count": 80,
      "metadata": {
        "colab": {
          "base_uri": "https://localhost:8080/"
        },
        "id": "540dd053",
        "outputId": "efb8ac67-3798-46fb-bac7-6ae959e36f0b"
      },
      "outputs": [
        {
          "output_type": "execute_result",
          "data": {
            "text/plain": [
              "nr_sessions                  0\n",
              "total_km                     0\n",
              "km_z3_4                      0\n",
              "km_z5_t1_t2                  0\n",
              "km_sprinting                 0\n",
              "strength_training            0\n",
              "hours_alternative            0\n",
              "perceived_exertion           0\n",
              "perceived_trainingsuccess    0\n",
              "perceived_recovery           0\n",
              "athlete_id                   0\n",
              "injury                       0\n",
              "date                         0\n",
              "dtype: int64"
            ]
          },
          "metadata": {},
          "execution_count": 80
        }
      ],
      "source": [
        "df.isna().sum()"
      ],
      "id": "540dd053"
    },
    {
      "cell_type": "code",
      "execution_count": 81,
      "metadata": {
        "colab": {
          "base_uri": "https://localhost:8080/"
        },
        "id": "c3c10b63",
        "outputId": "4fe02ba3-2456-4c22-efdd-27723c7e79a7"
      },
      "outputs": [
        {
          "output_type": "execute_result",
          "data": {
            "text/plain": [
              "nr_sessions                    int64\n",
              "total_km                     float64\n",
              "km_z3_4                      float64\n",
              "km_z5_t1_t2                  float64\n",
              "km_sprinting                 float64\n",
              "strength_training              int64\n",
              "hours_alternative            float64\n",
              "perceived_exertion           float64\n",
              "perceived_trainingsuccess    float64\n",
              "perceived_recovery           float64\n",
              "athlete_id                     int64\n",
              "injury                         int64\n",
              "date                           int64\n",
              "dtype: object"
            ]
          },
          "metadata": {},
          "execution_count": 81
        }
      ],
      "source": [
        "df.dtypes"
      ],
      "id": "c3c10b63"
    },
    {
      "cell_type": "code",
      "execution_count": 82,
      "metadata": {
        "colab": {
          "base_uri": "https://localhost:8080/"
        },
        "id": "83a008fa",
        "outputId": "a9f2b2f9-c8f7-463a-a286-a3e6ab42ec7b"
      },
      "outputs": [
        {
          "output_type": "stream",
          "name": "stdout",
          "text": [
            "<class 'pandas.core.frame.DataFrame'>\n",
            "RangeIndex: 42766 entries, 0 to 42765\n",
            "Data columns (total 13 columns):\n",
            " #   Column                     Non-Null Count  Dtype  \n",
            "---  ------                     --------------  -----  \n",
            " 0   nr_sessions                42766 non-null  int64  \n",
            " 1   total_km                   42766 non-null  float64\n",
            " 2   km_z3_4                    42766 non-null  float64\n",
            " 3   km_z5_t1_t2                42766 non-null  float64\n",
            " 4   km_sprinting               42766 non-null  float64\n",
            " 5   strength_training          42766 non-null  int64  \n",
            " 6   hours_alternative          42766 non-null  float64\n",
            " 7   perceived_exertion         42766 non-null  float64\n",
            " 8   perceived_trainingsuccess  42766 non-null  float64\n",
            " 9   perceived_recovery         42766 non-null  float64\n",
            " 10  athlete_id                 42766 non-null  int64  \n",
            " 11  injury                     42766 non-null  int64  \n",
            " 12  date                       42766 non-null  int64  \n",
            "dtypes: float64(8), int64(5)\n",
            "memory usage: 4.2 MB\n"
          ]
        }
      ],
      "source": [
        "df.info()"
      ],
      "id": "83a008fa"
    },
    {
      "cell_type": "code",
      "execution_count": 83,
      "metadata": {
        "colab": {
          "base_uri": "https://localhost:8080/"
        },
        "id": "2c0333f3",
        "outputId": "6255526b-8a2c-4498-ff3b-f29a9cfe2cb6"
      },
      "outputs": [
        {
          "output_type": "execute_result",
          "data": {
            "text/plain": [
              "0"
            ]
          },
          "metadata": {},
          "execution_count": 83
        }
      ],
      "source": [
        "df.duplicated().sum()"
      ],
      "id": "2c0333f3"
    },
    {
      "cell_type": "markdown",
      "metadata": {
        "id": "637b2c78"
      },
      "source": [
        "# Setp 3: EDA"
      ],
      "id": "637b2c78"
    },
    {
      "cell_type": "markdown",
      "metadata": {
        "id": "7c26aba4"
      },
      "source": [
        "\n",
        "### The Target will be <font color='blue'>injury</font>"
      ],
      "id": "7c26aba4"
    },
    {
      "cell_type": "code",
      "execution_count": 84,
      "metadata": {
        "colab": {
          "base_uri": "https://localhost:8080/",
          "height": 285
        },
        "id": "16ed8aa6",
        "outputId": "12d05ad4-283d-4fe9-d368-51fc103fe75e"
      },
      "outputs": [
        {
          "output_type": "display_data",
          "data": {
            "image/png": "[encoded data removed]",
            "text/plain": [
              "<Figure size 432x288 with 1 Axes>"
            ]
          },
          "metadata": {}
        }
      ],
      "source": [
        "sns.set_style('darkgrid')\n",
        "sns.countplot( x = 'injury', data = df, palette=[\"#f4c2c3\", \"#B43B62\"]);"
      ],
      "id": "16ed8aa6"
    },
    {
      "cell_type": "markdown",
      "metadata": {
        "id": "G_aaj7h-bYpS"
      },
      "source": [
        "This plot shows there is unbalance between in the dataset"
      ],
      "id": "G_aaj7h-bYpS"
    },
    {
      "cell_type": "code",
      "execution_count": 85,
      "metadata": {
        "colab": {
          "base_uri": "https://localhost:8080/",
          "height": 364
        },
        "id": "029d14f2",
        "outputId": "7dbf9f05-4f5e-4506-b800-e3d08b7c14de"
      },
      "outputs": [
        {
          "output_type": "execute_result",
          "data": {
            "text/html": [
              "\n",
              "  <div id=\"df-ec0f1451-967e-4892-9db2-95b8629e49f9\">\n",
              "    <div class=\"colab-df-container\">\n",
              "      <div>\n",
              "<style scoped>\n",
              "    .dataframe tbody tr th:only-of-type {\n",
              "        vertical-align: middle;\n",
              "    }\n",
              "\n",
              "    .dataframe tbody tr th {\n",
              "        vertical-align: top;\n",
              "    }\n",
              "\n",
              "    .dataframe thead th {\n",
              "        text-align: right;\n",
              "    }\n",
              "</style>\n",
              "<table border=\"1\" class=\"dataframe\">\n",
              "  <thead>\n",
              "    <tr style=\"text-align: right;\">\n",
              "      <th></th>\n",
              "      <th>nr_sessions</th>\n",
              "      <th>total_km</th>\n",
              "      <th>km_z3_4</th>\n",
              "      <th>km_z5_t1_t2</th>\n",
              "      <th>km_sprinting</th>\n",
              "      <th>strength_training</th>\n",
              "      <th>hours_alternative</th>\n",
              "      <th>perceived_exertion</th>\n",
              "      <th>perceived_trainingsuccess</th>\n",
              "      <th>perceived_recovery</th>\n",
              "      <th>athlete_id</th>\n",
              "      <th>injury</th>\n",
              "      <th>date</th>\n",
              "    </tr>\n",
              "  </thead>\n",
              "  <tbody>\n",
              "    <tr>\n",
              "      <th>count</th>\n",
              "      <td>42766.000000</td>\n",
              "      <td>42766.000000</td>\n",
              "      <td>42766.000000</td>\n",
              "      <td>42766.000000</td>\n",
              "      <td>42766.000000</td>\n",
              "      <td>42766.000000</td>\n",
              "      <td>42766.000000</td>\n",
              "      <td>42766.000000</td>\n",
              "      <td>42766.000000</td>\n",
              "      <td>42766.000000</td>\n",
              "      <td>42766.000000</td>\n",
              "      <td>42766.000000</td>\n",
              "      <td>42766.000000</td>\n",
              "    </tr>\n",
              "    <tr>\n",
              "      <th>mean</th>\n",
              "      <td>0.829561</td>\n",
              "      <td>7.038187</td>\n",
              "      <td>0.691381</td>\n",
              "      <td>0.579930</td>\n",
              "      <td>0.073016</td>\n",
              "      <td>0.116237</td>\n",
              "      <td>0.163492</td>\n",
              "      <td>0.247788</td>\n",
              "      <td>0.349802</td>\n",
              "      <td>0.195898</td>\n",
              "      <td>34.550858</td>\n",
              "      <td>0.013632</td>\n",
              "      <td>1228.039892</td>\n",
              "    </tr>\n",
              "    <tr>\n",
              "      <th>std</th>\n",
              "      <td>0.580696</td>\n",
              "      <td>7.473216</td>\n",
              "      <td>2.317657</td>\n",
              "      <td>1.811938</td>\n",
              "      <td>0.483480</td>\n",
              "      <td>0.326010</td>\n",
              "      <td>0.549664</td>\n",
              "      <td>0.257262</td>\n",
              "      <td>0.368300</td>\n",
              "      <td>0.190321</td>\n",
              "      <td>19.050033</td>\n",
              "      <td>0.115960</td>\n",
              "      <td>807.021168</td>\n",
              "    </tr>\n",
              "    <tr>\n",
              "      <th>min</th>\n",
              "      <td>0.000000</td>\n",
              "      <td>0.000000</td>\n",
              "      <td>0.000000</td>\n",
              "      <td>0.000000</td>\n",
              "      <td>0.000000</td>\n",
              "      <td>0.000000</td>\n",
              "      <td>0.000000</td>\n",
              "      <td>-0.010000</td>\n",
              "      <td>-0.010000</td>\n",
              "      <td>-0.010000</td>\n",
              "      <td>0.000000</td>\n",
              "      <td>0.000000</td>\n",
              "      <td>0.000000</td>\n",
              "    </tr>\n",
              "    <tr>\n",
              "      <th>25%</th>\n",
              "      <td>0.000000</td>\n",
              "      <td>0.000000</td>\n",
              "      <td>0.000000</td>\n",
              "      <td>0.000000</td>\n",
              "      <td>0.000000</td>\n",
              "      <td>0.000000</td>\n",
              "      <td>0.000000</td>\n",
              "      <td>-0.010000</td>\n",
              "      <td>-0.010000</td>\n",
              "      <td>-0.010000</td>\n",
              "      <td>20.000000</td>\n",
              "      <td>0.000000</td>\n",
              "      <td>436.000000</td>\n",
              "    </tr>\n",
              "    <tr>\n",
              "      <th>50%</th>\n",
              "      <td>1.000000</td>\n",
              "      <td>6.000000</td>\n",
              "      <td>0.000000</td>\n",
              "      <td>0.000000</td>\n",
              "      <td>0.000000</td>\n",
              "      <td>0.000000</td>\n",
              "      <td>0.000000</td>\n",
              "      <td>0.160000</td>\n",
              "      <td>0.260000</td>\n",
              "      <td>0.160000</td>\n",
              "      <td>34.000000</td>\n",
              "      <td>0.000000</td>\n",
              "      <td>1256.000000</td>\n",
              "    </tr>\n",
              "    <tr>\n",
              "      <th>75%</th>\n",
              "      <td>1.000000</td>\n",
              "      <td>12.000000</td>\n",
              "      <td>0.000000</td>\n",
              "      <td>0.000000</td>\n",
              "      <td>0.000000</td>\n",
              "      <td>0.000000</td>\n",
              "      <td>0.000000</td>\n",
              "      <td>0.440000</td>\n",
              "      <td>0.720000</td>\n",
              "      <td>0.300000</td>\n",
              "      <td>50.000000</td>\n",
              "      <td>0.000000</td>\n",
              "      <td>1913.000000</td>\n",
              "    </tr>\n",
              "    <tr>\n",
              "      <th>max</th>\n",
              "      <td>2.000000</td>\n",
              "      <td>55.900000</td>\n",
              "      <td>42.200000</td>\n",
              "      <td>48.000000</td>\n",
              "      <td>40.000000</td>\n",
              "      <td>2.000000</td>\n",
              "      <td>10.220000</td>\n",
              "      <td>1.000000</td>\n",
              "      <td>1.000000</td>\n",
              "      <td>1.000000</td>\n",
              "      <td>73.000000</td>\n",
              "      <td>1.000000</td>\n",
              "      <td>2673.000000</td>\n",
              "    </tr>\n",
              "  </tbody>\n",
              "</table>\n",
              "</div>\n",
              "      <button class=\"colab-df-convert\" onclick=\"convertToInteractive('df-ec0f1451-967e-4892-9db2-95b8629e49f9')\"\n",
              "              title=\"Convert this dataframe to an interactive table.\"\n",
              "              style=\"display:none;\">\n",
              "        \n",
              "  <svg xmlns=\"http://www.w3.org/2000/svg\" height=\"24px\"viewBox=\"0 0 24 24\"\n",
              "       width=\"24px\">\n",
              "    <path d=\"M0 0h24v24H0V0z\" fill=\"none\"/>\n",
              "    <path d=\"M18.56 5.44l.94 2.06.94-2.06 2.06-.94-2.06-.94-.94-2.06-.94 2.06-2.06.94zm-11 1L8.5 8.5l.94-2.06 2.06-.94-2.06-.94L8.5 2.5l-.94 2.06-2.06.94zm10 10l.94 2.06.94-2.06 2.06-.94-2.06-.94-.94-2.06-.94 2.06-2.06.94z\"/><path d=\"M17.41 7.96l-1.37-1.37c-.4-.4-.92-.59-1.43-.59-.52 0-1.04.2-1.43.59L10.3 9.45l-7.72 7.72c-.78.78-.78 2.05 0 2.83L4 21.41c.39.39.9.59 1.41.59.51 0 1.02-.2 1.41-.59l7.78-7.78 2.81-2.81c.8-.78.8-2.07 0-2.86zM5.41 20L4 18.59l7.72-7.72 1.47 1.35L5.41 20z\"/>\n",
              "  </svg>\n",
              "      </button>\n",
              "      \n",
              "  <style>\n",
              "    .colab-df-container {\n",
              "      display:flex;\n",
              "      flex-wrap:wrap;\n",
              "      gap: 12px;\n",
              "    }\n",
              "\n",
              "    .colab-df-convert {\n",
              "      background-color: #E8F0FE;\n",
              "      border: none;\n",
              "      border-radius: 50%;\n",
              "      cursor: pointer;\n",
              "      display: none;\n",
              "      fill: #1967D2;\n",
              "      height: 32px;\n",
              "      padding: 0 0 0 0;\n",
              "      width: 32px;\n",
              "    }\n",
              "\n",
              "    .colab-df-convert:hover {\n",
              "      background-color: #E2EBFA;\n",
              "      box-shadow: 0px 1px 2px rgba(60, 64, 67, 0.3), 0px 1px 3px 1px rgba(60, 64, 67, 0.15);\n",
              "      fill: #174EA6;\n",
              "    }\n",
              "\n",
              "    [theme=dark] .colab-df-convert {\n",
              "      background-color: #3B4455;\n",
              "      fill: #D2E3FC;\n",
              "    }\n",
              "\n",
              "    [theme=dark] .colab-df-convert:hover {\n",
              "      background-color: #434B5C;\n",
              "      box-shadow: 0px 1px 3px 1px rgba(0, 0, 0, 0.15);\n",
              "      filter: drop-shadow(0px 1px 2px rgba(0, 0, 0, 0.3));\n",
              "      fill: #FFFFFF;\n",
              "    }\n",
              "  </style>\n",
              "\n",
              "      <script>\n",
              "        const buttonEl =\n",
              "          document.querySelector('#df-ec0f1451-967e-4892-9db2-95b8629e49f9 button.colab-df-convert');\n",
              "        buttonEl.style.display =\n",
              "          google.colab.kernel.accessAllowed ? 'block' : 'none';\n",
              "\n",
              "        async function convertToInteractive(key) {\n",
              "          const element = document.querySelector('#df-ec0f1451-967e-4892-9db2-95b8629e49f9');\n",
              "          const dataTable =\n",
              "            await google.colab.kernel.invokeFunction('convertToInteractive',\n",
              "                                                     [key], {});\n",
              "          if (!dataTable) return;\n",
              "\n",
              "          const docLinkHtml = 'Like what you see? Visit the ' +\n",
              "            '<a target=\"_blank\" href=https://colab.research.google.com/notebooks/data_table.ipynb>data table notebook</a>'\n",
              "            + ' to learn more about interactive tables.';\n",
              "          element.innerHTML = '';\n",
              "          dataTable['output_type'] = 'display_data';\n",
              "          await google.colab.output.renderOutput(dataTable, element);\n",
              "          const docLink = document.createElement('div');\n",
              "          docLink.innerHTML = docLinkHtml;\n",
              "          element.appendChild(docLink);\n",
              "        }\n",
              "      </script>\n",
              "    </div>\n",
              "  </div>\n",
              "  "
            ],
            "text/plain": [
              "        nr_sessions      total_km  ...        injury          date\n",
              "count  42766.000000  42766.000000  ...  42766.000000  42766.000000\n",
              "mean       0.829561      7.038187  ...      0.013632   1228.039892\n",
              "std        0.580696      7.473216  ...      0.115960    807.021168\n",
              "min        0.000000      0.000000  ...      0.000000      0.000000\n",
              "25%        0.000000      0.000000  ...      0.000000    436.000000\n",
              "50%        1.000000      6.000000  ...      0.000000   1256.000000\n",
              "75%        1.000000     12.000000  ...      0.000000   1913.000000\n",
              "max        2.000000     55.900000  ...      1.000000   2673.000000\n",
              "\n",
              "[8 rows x 13 columns]"
            ]
          },
          "metadata": {},
          "execution_count": 85
        }
      ],
      "source": [
        "df.describe()"
      ],
      "id": "029d14f2"
    },
    {
      "cell_type": "code",
      "execution_count": 86,
      "metadata": {
        "colab": {
          "base_uri": "https://localhost:8080/"
        },
        "id": "6e8f204b",
        "outputId": "e92c3d9a-84c2-4ea0-bcd5-5939874047a5"
      },
      "outputs": [
        {
          "output_type": "execute_result",
          "data": {
            "text/plain": [
              "count    42766.000000\n",
              "mean         0.013632\n",
              "std          0.115960\n",
              "min          0.000000\n",
              "25%          0.000000\n",
              "50%          0.000000\n",
              "75%          0.000000\n",
              "max          1.000000\n",
              "Name: injury, dtype: float64"
            ]
          },
          "metadata": {},
          "execution_count": 86
        }
      ],
      "source": [
        "df.injury.describe()"
      ],
      "id": "6e8f204b"
    },
    {
      "cell_type": "code",
      "execution_count": 87,
      "metadata": {
        "colab": {
          "base_uri": "https://localhost:8080/",
          "height": 657
        },
        "id": "2d357338",
        "outputId": "38025195-5ede-4c9e-9043-c2a3a03fad8e"
      },
      "outputs": [
        {
          "output_type": "display_data",
          "data": {
            "image/png": "[encoded data removed]",
            "text/plain": [
              "<Figure size 432x648 with 6 Axes>"
            ]
          },
          "metadata": {}
        }
      ],
      "source": [
        "d = {'color': ['#B43B62','#f4c2c3']}\n",
        "g = sns.FacetGrid(df, col='injury', row='strength_training' , hue_kws=d)\n",
        "g.map_dataframe(sns.histplot, x= 'date');"
      ],
      "id": "2d357338"
    },
    {
      "cell_type": "code",
      "execution_count": 88,
      "metadata": {
        "colab": {
          "base_uri": "https://localhost:8080/"
        },
        "id": "6052bbc7",
        "outputId": "29500807-ea67-4c9f-cc21-bc4486db1be8"
      },
      "outputs": [
        {
          "output_type": "execute_result",
          "data": {
            "text/plain": [
              "array([0, 1])"
            ]
          },
          "metadata": {},
          "execution_count": 88
        }
      ],
      "source": [
        "df['injury'].unique()"
      ],
      "id": "6052bbc7"
    },
    {
      "cell_type": "code",
      "execution_count": 89,
      "metadata": {
        "colab": {
          "base_uri": "https://localhost:8080/",
          "height": 463
        },
        "id": "50cd1f8e",
        "outputId": "890f89d5-6a67-4e21-aed9-634019e9ec3e"
      },
      "outputs": [
        {
          "output_type": "display_data",
          "data": {
            "image/png": "[encoded data removed]",
            "text/plain": [
              "<Figure size 720x360 with 2 Axes>"
            ]
          },
          "metadata": {}
        }
      ],
      "source": [
        "plt.figure(figsize=[10,5])\n",
        "correct = df.corr()\n",
        "sns.heatmap(correct, annot=True, linewidths=1, cmap=\"RdPu\");"
      ],
      "id": "50cd1f8e"
    },
    {
      "cell_type": "markdown",
      "metadata": {
        "id": "32f5a89f"
      },
      "source": [
        "# Step 4: Model (Before applying SMOTE)"
      ],
      "id": "32f5a89f"
    },
    {
      "cell_type": "markdown",
      "metadata": {
        "id": "b2ueiguibrpn"
      },
      "source": [
        "1.LogisticRegression"
      ],
      "id": "b2ueiguibrpn"
    },
    {
      "cell_type": "code",
      "execution_count": 90,
      "metadata": {
        "colab": {
          "base_uri": "https://localhost:8080/",
          "height": 559
        },
        "id": "2f04afb6",
        "outputId": "0b5c8440-f38d-4b43-bf77-cccbff0ddd23"
      },
      "outputs": [
        {
          "output_type": "stream",
          "name": "stdout",
          "text": [
            "              precision    recall  f1-score   support\n",
            "\n",
            "           0       0.99      1.00      0.99      8435\n",
            "           1       0.00      0.00      0.00       119\n",
            "\n",
            "    accuracy                           0.99      8554\n",
            "   macro avg       0.49      0.50      0.50      8554\n",
            "weighted avg       0.97      0.99      0.98      8554\n",
            "\n"
          ]
        },
        {
          "output_type": "display_data",
          "data": {
            "image/png": "[encoded data removed]",
            "text/plain": [
              "<Figure size 576x432 with 2 Axes>"
            ]
          },
          "metadata": {}
        }
      ],
      "source": [
        "\n",
        "warnings.simplefilter(action='ignore', category=FutureWarning)\n",
        "warnings.simplefilter(action='ignore', category=UserWarning)\n",
        "x = df.drop(columns=['injury']) \n",
        "y = df.injury\n",
        "\n",
        "x_train, x_test, y_train, y_test = train_test_split(x, y, test_size = 0.2, random_state=10) \n",
        "\n",
        "lr_model = LogisticRegression() \n",
        "lr_model.fit(x_train, y_train) \n",
        "y_pred = lr_model.predict(x_test) \n",
        "\n",
        "print(classification_report(y_test, y_pred)) \n",
        "cm = confusion_matrix(y_test, y_pred)\n",
        "\n",
        "plt.figure(figsize=(8, 6))\n",
        "plt.title('Confusion Matrix (without SMOTE)', size=16)\n",
        "sns.heatmap(cm, annot=True, linewidths=1, cmap=\"RdPu\");"
      ],
      "id": "2f04afb6"
    },
    {
      "cell_type": "markdown",
      "metadata": {
        "id": "bLFmK178b3Ne"
      },
      "source": [
        "2.Xgboost"
      ],
      "id": "bLFmK178b3Ne"
    },
    {
      "cell_type": "code",
      "execution_count": 91,
      "metadata": {
        "colab": {
          "base_uri": "https://localhost:8080/",
          "height": 578
        },
        "id": "-Z0ZK_P8ndsY",
        "outputId": "5e2e5ff0-2ff8-4e44-efc7-311833235646"
      },
      "outputs": [
        {
          "output_type": "stream",
          "name": "stdout",
          "text": [
            "Accuracy Score: 0.986088379705401\n",
            "              precision    recall  f1-score   support\n",
            "\n",
            "           0       0.99      1.00      0.99      8435\n",
            "           1       0.00      0.00      0.00       119\n",
            "\n",
            "    accuracy                           0.99      8554\n",
            "   macro avg       0.49      0.50      0.50      8554\n",
            "weighted avg       0.97      0.99      0.98      8554\n",
            "\n"
          ]
        },
        {
          "output_type": "display_data",
          "data": {
            "image/png": "[encoded data removed]",
            "text/plain": [
              "<Figure size 576x432 with 2 Axes>"
            ]
          },
          "metadata": {}
        }
      ],
      "source": [
        "import warnings\n",
        "warnings.simplefilter(action='ignore', category=FutureWarning)\n",
        "warnings.simplefilter(action='ignore', category=UserWarning)\n",
        "\n",
        "model5 = xgb.XGBClassifier(random_state=1)\n",
        "model5.fit(x_train, y_train)\n",
        "y_pred= model5.predict(x_test)\n",
        "\n",
        "print(\"Accuracy Score:\",accuracy_score(y_test,y_pred))\n",
        "print(classification_report(y_test,y_pred))\n",
        "cm = confusion_matrix(y_test, y_pred)\n",
        "plt.figure(figsize=(8, 6))\n",
        "plt.title('Confusion Matrix (without SMOTE)', size=16)\n",
        "sns.heatmap(cm, annot=True, linewidths=1, cmap=\"RdPu\");"
      ],
      "id": "-Z0ZK_P8ndsY"
    },
    {
      "cell_type": "markdown",
      "metadata": {
        "id": "hSAYp5rvb6qC"
      },
      "source": [
        "3.KNN"
      ],
      "id": "hSAYp5rvb6qC"
    },
    {
      "cell_type": "code",
      "execution_count": 92,
      "metadata": {
        "colab": {
          "base_uri": "https://localhost:8080/",
          "height": 578
        },
        "id": "4f40dba6",
        "outputId": "d17372c2-ad8b-44c6-9a5a-7c6bf26ddb6d"
      },
      "outputs": [
        {
          "output_type": "stream",
          "name": "stdout",
          "text": [
            "Accuracy Score: 0.985854570960954\n",
            "              precision    recall  f1-score   support\n",
            "\n",
            "           0       0.99      1.00      0.99      8435\n",
            "           1       0.33      0.02      0.03       119\n",
            "\n",
            "    accuracy                           0.99      8554\n",
            "   macro avg       0.66      0.51      0.51      8554\n",
            "weighted avg       0.98      0.99      0.98      8554\n",
            "\n"
          ]
        },
        {
          "output_type": "display_data",
          "data": {
            "image/png": "[encoded data removed]",
            "text/plain": [
              "<Figure size 576x432 with 2 Axes>"
            ]
          },
          "metadata": {}
        }
      ],
      "source": [
        "from sklearn.metrics import plot_confusion_matrix\n",
        "from sklearn.neighbors import KNeighborsClassifier\n",
        "from sklearn.metrics import confusion_matrix\n",
        "\n",
        "model = KNeighborsClassifier(n_neighbors=3)\n",
        "model.fit(x_train,y_train)\n",
        "y_pred = model.predict(x_test)\n",
        "\n",
        "from sklearn.metrics import accuracy_score\n",
        "print(\"Accuracy Score:\",accuracy_score(y_test,y_pred))\n",
        "print(classification_report(y_test,y_pred))\n",
        "cm = confusion_matrix(y_test, y_pred)\n",
        "plt.figure(figsize=(8, 6))\n",
        "plt.title('Confusion Matrix (without SMOTE)', size=16)\n",
        "sns.heatmap(cm, annot=True, linewidths=1, cmap=\"RdPu\");"
      ],
      "id": "4f40dba6"
    },
    {
      "cell_type": "markdown",
      "metadata": {
        "id": "GliJOlK_cZWJ"
      },
      "source": [
        "Apply SMOTE to features (X) and the target (y) and store the results in dedicated variables. The new feature and target set is larger, due to oversampling. Here’s the code for applying SMOTE:"
      ],
      "id": "GliJOlK_cZWJ"
    },
    {
      "cell_type": "code",
      "execution_count": 93,
      "metadata": {
        "colab": {
          "base_uri": "https://localhost:8080/"
        },
        "id": "bMZOp8WkrFiE",
        "outputId": "21416da8-3aff-4681-8125-29bb22cd38a5"
      },
      "outputs": [
        {
          "output_type": "stream",
          "name": "stdout",
          "text": [
            "Shape of X before SMOTE: (42766, 12)\n",
            "Shape of x after SMOTE: (67496, 12)\n",
            "\n",
            "Balance of positive and negative classes (%):\n"
          ]
        },
        {
          "output_type": "execute_result",
          "data": {
            "text/plain": [
              "1    50.0\n",
              "0    50.0\n",
              "Name: injury, dtype: float64"
            ]
          },
          "metadata": {},
          "execution_count": 93
        }
      ],
      "source": [
        "sm = SMOTE(random_state=42)\n",
        "x_sm, y_sm =sm.fit_resample(x_train, y_train)\n",
        "\n",
        "print(f'''Shape of X before SMOTE: {x.shape}\n",
        "Shape of x after SMOTE: {x_sm.shape}''')\n",
        "\n",
        "print('\\nBalance of positive and negative classes (%):')\n",
        "y_sm.value_counts(normalize=True) * 100\n",
        "\n"
      ],
      "id": "bMZOp8WkrFiE"
    },
    {
      "cell_type": "code",
      "execution_count": 94,
      "metadata": {
        "colab": {
          "base_uri": "https://localhost:8080/",
          "height": 301
        },
        "id": "78229ef1",
        "outputId": "a718c025-733b-443a-eacc-bf150df5122f"
      },
      "outputs": [
        {
          "output_type": "execute_result",
          "data": {
            "text/plain": [
              "<matplotlib.axes._subplots.AxesSubplot at 0x7f6771436d90>"
            ]
          },
          "metadata": {},
          "execution_count": 94
        },
        {
          "output_type": "display_data",
          "data": {
            "image/png": "[encoded data removed]",
            "text/plain": [
              "<Figure size 432x288 with 1 Axes>"
            ]
          },
          "metadata": {}
        }
      ],
      "source": [
        "X = x_sm\n",
        "y = y_sm\n",
        "plt.xlabel('Injury')\n",
        "plt.ylabel('Count')\n",
        "pd.value_counts(y).plot.bar(color=[\"#f4c2c3\", \"#B43B62\"])\n"
      ],
      "id": "78229ef1"
    },
    {
      "cell_type": "markdown",
      "metadata": {
        "id": "ERPQEgMGdUEe"
      },
      "source": [
        "After balancing data."
      ],
      "id": "ERPQEgMGdUEe"
    },
    {
      "cell_type": "markdown",
      "metadata": {
        "id": "O_eg_wgjdqP1"
      },
      "source": [
        "# Model (After applying SMOTE):"
      ],
      "id": "O_eg_wgjdqP1"
    },
    {
      "cell_type": "markdown",
      "metadata": {
        "id": "Sk17rHBUdzxa"
      },
      "source": [
        "1.LogisticRegression"
      ],
      "id": "Sk17rHBUdzxa"
    },
    {
      "cell_type": "code",
      "execution_count": 95,
      "metadata": {
        "colab": {
          "base_uri": "https://localhost:8080/",
          "height": 578
        },
        "id": "aIwZkMyCp0VM",
        "outputId": "a639a1e9-5ead-49c8-cfab-962c99bc1a71"
      },
      "outputs": [
        {
          "output_type": "stream",
          "name": "stdout",
          "text": [
            "Accuracy Score: 0.6216220220457509\n",
            "              precision    recall  f1-score   support\n",
            "\n",
            "           0       0.62      0.62      0.62     33748\n",
            "           1       0.62      0.63      0.62     33748\n",
            "\n",
            "    accuracy                           0.62     67496\n",
            "   macro avg       0.62      0.62      0.62     67496\n",
            "weighted avg       0.62      0.62      0.62     67496\n",
            "\n"
          ]
        },
        {
          "output_type": "display_data",
          "data": {
            "image/png": "[encoded data removed]",
            "text/plain": [
              "<Figure size 576x432 with 2 Axes>"
            ]
          },
          "metadata": {}
        }
      ],
      "source": [
        "warnings.simplefilter(action='ignore', category=FutureWarning)\n",
        "warnings.simplefilter(action='ignore', category=UserWarning)\n",
        "x=df.drop(columns=['injury']) \n",
        "y= df.injury\n",
        "\n",
        "x_train, x_test, y_train, y_test = train_test_split(x, y, test_size = 0.2, random_state=10) \n",
        "lr_model = LogisticRegression() \n",
        "lr_model.fit(x_sm, y_sm) \n",
        "y_pred = lr_model.predict(x_sm) \n",
        "\n",
        "print(\"Accuracy Score:\",accuracy_score(y_sm,y_pred))\n",
        "\n",
        "print(classification_report(y_sm, y_pred)) \n",
        "cm = confusion_matrix(y_sm, y_pred)\n",
        "plt.figure(figsize=(8, 6))\n",
        "plt.title('Confusion Matrix (with SMOTE)', size=16)\n",
        "sns.heatmap(cm, annot=True,linewidths=1, cmap=\"RdPu\");"
      ],
      "id": "aIwZkMyCp0VM"
    },
    {
      "cell_type": "markdown",
      "metadata": {
        "id": "rpstz839d7gI"
      },
      "source": [
        "2.Xgboost"
      ],
      "id": "rpstz839d7gI"
    },
    {
      "cell_type": "code",
      "execution_count": 96,
      "metadata": {
        "colab": {
          "base_uri": "https://localhost:8080/",
          "height": 578
        },
        "id": "SmIghIAVphQB",
        "outputId": "bb5da7c2-e074-4c27-e3f2-13af235a19b2"
      },
      "outputs": [
        {
          "output_type": "stream",
          "name": "stdout",
          "text": [
            "Accuracy Score: 0.8631474457745644\n",
            "              precision    recall  f1-score   support\n",
            "\n",
            "           0       0.87      0.85      0.86     33748\n",
            "           1       0.86      0.87      0.86     33748\n",
            "\n",
            "    accuracy                           0.86     67496\n",
            "   macro avg       0.86      0.86      0.86     67496\n",
            "weighted avg       0.86      0.86      0.86     67496\n",
            "\n"
          ]
        },
        {
          "output_type": "display_data",
          "data": {
            "image/png": "[encoded data removed]",
            "text/plain": [
              "<Figure size 576x432 with 2 Axes>"
            ]
          },
          "metadata": {}
        }
      ],
      "source": [
        "warnings.simplefilter(action='ignore', category=FutureWarning)\n",
        "warnings.simplefilter(action='ignore', category=UserWarning)\n",
        "\n",
        "model5 = xgb.XGBClassifier(random_state=1)\n",
        "model5.fit(x_sm, y_sm)\n",
        "y_pred= model5.predict(x_sm)\n",
        "\n",
        "\n",
        "print(\"Accuracy Score:\",accuracy_score(y_sm,y_pred))\n",
        "print(classification_report(y_sm,y_pred))\n",
        "cm = confusion_matrix(y_sm, y_pred)\n",
        "plt.figure(figsize=(8, 6))\n",
        "plt.title('Confusion Matrix (with SMOTE)', size=16)\n",
        "sns.heatmap(cm, annot=True, linewidths=1, cmap=\"RdPu\");"
      ],
      "id": "SmIghIAVphQB"
    },
    {
      "cell_type": "markdown",
      "metadata": {
        "id": "aiQf8sbSd90s"
      },
      "source": [
        "3.KNN"
      ],
      "id": "aiQf8sbSd90s"
    },
    {
      "cell_type": "code",
      "execution_count": 97,
      "metadata": {
        "colab": {
          "base_uri": "https://localhost:8080/",
          "height": 578
        },
        "id": "2d55cec7",
        "outputId": "7b3b0c34-926e-4c08-def5-affcaca74c3a"
      },
      "outputs": [
        {
          "output_type": "stream",
          "name": "stdout",
          "text": [
            "Accuracy Score: 0.9766060210975466\n",
            "              precision    recall  f1-score   support\n",
            "\n",
            "           0       1.00      0.96      0.98     33748\n",
            "           1       0.96      1.00      0.98     33748\n",
            "\n",
            "    accuracy                           0.98     67496\n",
            "   macro avg       0.98      0.98      0.98     67496\n",
            "weighted avg       0.98      0.98      0.98     67496\n",
            "\n"
          ]
        },
        {
          "output_type": "display_data",
          "data": {
            "image/png": "[encoded data removed]",
            "text/plain": [
              "<Figure size 576x432 with 2 Axes>"
            ]
          },
          "metadata": {}
        }
      ],
      "source": [
        "from sklearn.neighbors import KNeighborsClassifier\n",
        "from sklearn.metrics import confusion_matrix\n",
        "model = KNeighborsClassifier(n_neighbors=3)\n",
        "model.fit(x_sm, y_sm)\n",
        "y_pred = model.predict(x_sm)\n",
        "\n",
        "from sklearn.metrics import accuracy_score\n",
        "print(\"Accuracy Score:\",accuracy_score(y_sm,y_pred))\n",
        "print(classification_report(y_sm,y_pred))\n",
        "cm = confusion_matrix(y_sm, y_pred)\n",
        "plt.figure(figsize=(8, 6))\n",
        "plt.title('Confusion Matrix (with SMOTE)', size=16)\n",
        "sns.heatmap(cm, annot=True,  linewidths=1, cmap=\"RdPu\");"
      ],
      "id": "2d55cec7"
    },
    {
      "cell_type": "code",
      "execution_count": 98,
      "metadata": {
        "colab": {
          "base_uri": "https://localhost:8080/"
        },
        "id": "qJTC2ucVzHIj",
        "outputId": "eb414bcd-62f8-4c03-953f-aac17206c813"
      },
      "outputs": [
        {
          "output_type": "stream",
          "name": "stdout",
          "text": [
            "                     Model\n",
            "Score                     \n",
            "0.976                  KNN\n",
            "0.863              Xgboost\n",
            "0.621  Logistic Regression\n"
          ]
        }
      ],
      "source": [
        "results = pd.DataFrame({\n",
        "    'Model': ['KNN','Xgboost','Logistic Regression'],\n",
        "    'Score': [0.976,0.863, 0.621]})\n",
        "\n",
        "result_df = results.sort_values(by='Score', ascending=False)\n",
        "result_df = result_df.set_index('Score')\n",
        "print(result_df)"
      ],
      "id": "qJTC2ucVzHIj"
    },
    {
      "cell_type": "code",
      "source": [
        "models = []\n",
        "models.append(('LR', LogisticRegression()))\n",
        "models.append(('xgb', XGBClassifier()))\n",
        "models.append(('KNN', KNeighborsClassifier()))\n",
        "# evaluate each model in turn\n",
        "results = []\n",
        "names = []\n",
        "scoring = 'accuracy'\n",
        "for name, model in models:\n",
        "\tkfold = model_selection.KFold(n_splits=10, random_state=None)\n",
        "\tcv_results = model_selection.cross_val_score(model, x_sm, y_sm, cv=kfold, scoring=scoring)\n",
        "\tresults.append(cv_results)\n",
        "\tnames.append(name)\n",
        "fig = plt.figure()\n",
        "fig.suptitle('Algorithm Comparison')\n",
        "ax = fig.add_subplot(111)\n",
        "plt.boxplot(results)\n",
        "ax.set_xticklabels(names)\n",
        "plt.show()"
      ],
      "metadata": {
        "colab": {
          "base_uri": "https://localhost:8080/",
          "height": 297
        },
        "id": "yNHK3PlNBdXp",
        "outputId": "043c3ba7-1d26-46f5-e867-cdc547f510bd"
      },
      "id": "yNHK3PlNBdXp",
      "execution_count": 99,
      "outputs": [
        {
          "output_type": "display_data",
          "data": {
            "image/png": "[encoded data removed]",
            "text/plain": [
              "<Figure size 432x288 with 1 Axes>"
            ]
          },
          "metadata": {}
        }
      ]
    },
    {
      "cell_type": "markdown",
      "metadata": {
        "id": "msno5ho9eGzE"
      },
      "source": [
        "# 5.Conclusion"
      ],
      "id": "msno5ho9eGzE"
    },
    {
      "cell_type": "markdown",
      "metadata": {
        "id": "PhcxidekfZSj"
      },
      "source": [
        "From the results we can observe that the KNN performs better than the other algorithms. At the KNN managed to achieve a classification accuracy of 98%."
      ],
      "id": "PhcxidekfZSj"
    }
  ],
  "metadata": {
    "colab": {
      "collapsed_sections": [],
      "name": "Injuries_v2.ipynb",
      "provenance": []
    },
    "kernelspec": {
      "display_name": "Python [conda env:metis] *",
      "language": "python",
      "name": "conda-env-metis-py"
    },
    "language_info": {
      "codemirror_mode": {
        "name": "ipython",
        "version": 3
      },
      "file_extension": ".py",
      "mimetype": "text/x-python",
      "name": "python",
      "nbconvert_exporter": "python",
      "pygments_lexer": "ipython3",
      "version": "3.9.7"
    }
  },
  "nbformat": 4,
  "nbformat_minor": 5
}